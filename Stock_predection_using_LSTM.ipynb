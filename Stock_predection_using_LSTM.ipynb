{
  "cells": [
    {
      "cell_type": "markdown",
      "metadata": {
        "id": "view-in-github",
        "colab_type": "text"
      },
      "source": [
        "<a href=\"https://colab.research.google.com/github/sankalp142002/Stock-predection-using-LSTM/blob/main/Stock_predection_using_LSTM.ipynb\" target=\"_parent\"><img src=\"https://colab.research.google.com/assets/colab-badge.svg\" alt=\"Open In Colab\"/></a>"
      ]
    },
    {
      "cell_type": "code",
      "execution_count": null,
      "metadata": {
        "id": "nOSeJ1gfdPgs"
      },
      "outputs": [],
      "source": [
        "#Importing all required libraries\n",
        "import pandas as pd\n",
        "import numpy as np\n",
        "from tensorflow.keras.models import Sequential\n",
        "from tensorflow.keras.layers import Dense\n",
        "from tensorflow.keras.layers import LSTM\n",
        "import tensorflow as tf\n",
        "import matplotlib.pyplot as plt\n"
      ]
    },
    {
      "cell_type": "code",
      "execution_count": null,
      "metadata": {
        "id": "lYpJC3_ndUv5"
      },
      "outputs": [],
      "source": [
        "data_frame=pd.read_csv('c.csv')"
      ]
    },
    {
      "cell_type": "code",
      "execution_count": null,
      "metadata": {
        "colab": {
          "base_uri": "https://localhost:8080/",
          "height": 206
        },
        "id": "3S-fL4GCdUyk",
        "outputId": "20f4533c-a7a2-4b40-bd0b-ad4d8bbe16df"
      },
      "outputs": [
        {
          "output_type": "execute_result",
          "data": {
            "text/plain": [
              "        Start         End     Open     High      Low    Close       Volume  \\\n",
              "0  12-08-2023  13-08-2023  55.3970  56.8561  54.9612  55.2520  122166521.4   \n",
              "1  11-08-2023  12-08-2023  55.3987  55.9676  54.9087  55.4947  143162209.2   \n",
              "2  10-08-2023  11-08-2023  55.8277  56.9548  54.9311  55.3338  183212991.1   \n",
              "3  09-08-2023  10-08-2023  56.0921  56.6827  54.9759  55.8226  220651056.0   \n",
              "4  08-08-2023  09-08-2023  54.1903  56.2510  53.5826  55.8902  279745194.5   \n",
              "\n",
              "    Market Cap           TVL  \n",
              "0  403313634.8  1.334464e+09  \n",
              "1  403156107.3  1.350192e+09  \n",
              "2  405914629.6  1.319699e+09  \n",
              "3  406076717.5  1.302909e+09  \n",
              "4  398730181.3  1.315023e+09  "
            ],
            "text/html": [
              "\n",
              "  <div id=\"df-59c8c012-3623-42ae-a24d-b71aac1c62d1\" class=\"colab-df-container\">\n",
              "    <div>\n",
              "<style scoped>\n",
              "    .dataframe tbody tr th:only-of-type {\n",
              "        vertical-align: middle;\n",
              "    }\n",
              "\n",
              "    .dataframe tbody tr th {\n",
              "        vertical-align: top;\n",
              "    }\n",
              "\n",
              "    .dataframe thead th {\n",
              "        text-align: right;\n",
              "    }\n",
              "</style>\n",
              "<table border=\"1\" class=\"dataframe\">\n",
              "  <thead>\n",
              "    <tr style=\"text-align: right;\">\n",
              "      <th></th>\n",
              "      <th>Start</th>\n",
              "      <th>End</th>\n",
              "      <th>Open</th>\n",
              "      <th>High</th>\n",
              "      <th>Low</th>\n",
              "      <th>Close</th>\n",
              "      <th>Volume</th>\n",
              "      <th>Market Cap</th>\n",
              "      <th>TVL</th>\n",
              "    </tr>\n",
              "  </thead>\n",
              "  <tbody>\n",
              "    <tr>\n",
              "      <th>0</th>\n",
              "      <td>12-08-2023</td>\n",
              "      <td>13-08-2023</td>\n",
              "      <td>55.3970</td>\n",
              "      <td>56.8561</td>\n",
              "      <td>54.9612</td>\n",
              "      <td>55.2520</td>\n",
              "      <td>122166521.4</td>\n",
              "      <td>403313634.8</td>\n",
              "      <td>1.334464e+09</td>\n",
              "    </tr>\n",
              "    <tr>\n",
              "      <th>1</th>\n",
              "      <td>11-08-2023</td>\n",
              "      <td>12-08-2023</td>\n",
              "      <td>55.3987</td>\n",
              "      <td>55.9676</td>\n",
              "      <td>54.9087</td>\n",
              "      <td>55.4947</td>\n",
              "      <td>143162209.2</td>\n",
              "      <td>403156107.3</td>\n",
              "      <td>1.350192e+09</td>\n",
              "    </tr>\n",
              "    <tr>\n",
              "      <th>2</th>\n",
              "      <td>10-08-2023</td>\n",
              "      <td>11-08-2023</td>\n",
              "      <td>55.8277</td>\n",
              "      <td>56.9548</td>\n",
              "      <td>54.9311</td>\n",
              "      <td>55.3338</td>\n",
              "      <td>183212991.1</td>\n",
              "      <td>405914629.6</td>\n",
              "      <td>1.319699e+09</td>\n",
              "    </tr>\n",
              "    <tr>\n",
              "      <th>3</th>\n",
              "      <td>09-08-2023</td>\n",
              "      <td>10-08-2023</td>\n",
              "      <td>56.0921</td>\n",
              "      <td>56.6827</td>\n",
              "      <td>54.9759</td>\n",
              "      <td>55.8226</td>\n",
              "      <td>220651056.0</td>\n",
              "      <td>406076717.5</td>\n",
              "      <td>1.302909e+09</td>\n",
              "    </tr>\n",
              "    <tr>\n",
              "      <th>4</th>\n",
              "      <td>08-08-2023</td>\n",
              "      <td>09-08-2023</td>\n",
              "      <td>54.1903</td>\n",
              "      <td>56.2510</td>\n",
              "      <td>53.5826</td>\n",
              "      <td>55.8902</td>\n",
              "      <td>279745194.5</td>\n",
              "      <td>398730181.3</td>\n",
              "      <td>1.315023e+09</td>\n",
              "    </tr>\n",
              "  </tbody>\n",
              "</table>\n",
              "</div>\n",
              "    <div class=\"colab-df-buttons\">\n",
              "\n",
              "  <div class=\"colab-df-container\">\n",
              "    <button class=\"colab-df-convert\" onclick=\"convertToInteractive('df-59c8c012-3623-42ae-a24d-b71aac1c62d1')\"\n",
              "            title=\"Convert this dataframe to an interactive table.\"\n",
              "            style=\"display:none;\">\n",
              "\n",
              "  <svg xmlns=\"http://www.w3.org/2000/svg\" height=\"24px\" viewBox=\"0 -960 960 960\">\n",
              "    <path d=\"M120-120v-720h720v720H120Zm60-500h600v-160H180v160Zm220 220h160v-160H400v160Zm0 220h160v-160H400v160ZM180-400h160v-160H180v160Zm440 0h160v-160H620v160ZM180-180h160v-160H180v160Zm440 0h160v-160H620v160Z\"/>\n",
              "  </svg>\n",
              "    </button>\n",
              "\n",
              "  <style>\n",
              "    .colab-df-container {\n",
              "      display:flex;\n",
              "      gap: 12px;\n",
              "    }\n",
              "\n",
              "    .colab-df-convert {\n",
              "      background-color: #E8F0FE;\n",
              "      border: none;\n",
              "      border-radius: 50%;\n",
              "      cursor: pointer;\n",
              "      display: none;\n",
              "      fill: #1967D2;\n",
              "      height: 32px;\n",
              "      padding: 0 0 0 0;\n",
              "      width: 32px;\n",
              "    }\n",
              "\n",
              "    .colab-df-convert:hover {\n",
              "      background-color: #E2EBFA;\n",
              "      box-shadow: 0px 1px 2px rgba(60, 64, 67, 0.3), 0px 1px 3px 1px rgba(60, 64, 67, 0.15);\n",
              "      fill: #174EA6;\n",
              "    }\n",
              "\n",
              "    .colab-df-buttons div {\n",
              "      margin-bottom: 4px;\n",
              "    }\n",
              "\n",
              "    [theme=dark] .colab-df-convert {\n",
              "      background-color: #3B4455;\n",
              "      fill: #D2E3FC;\n",
              "    }\n",
              "\n",
              "    [theme=dark] .colab-df-convert:hover {\n",
              "      background-color: #434B5C;\n",
              "      box-shadow: 0px 1px 3px 1px rgba(0, 0, 0, 0.15);\n",
              "      filter: drop-shadow(0px 1px 2px rgba(0, 0, 0, 0.3));\n",
              "      fill: #FFFFFF;\n",
              "    }\n",
              "  </style>\n",
              "\n",
              "    <script>\n",
              "      const buttonEl =\n",
              "        document.querySelector('#df-59c8c012-3623-42ae-a24d-b71aac1c62d1 button.colab-df-convert');\n",
              "      buttonEl.style.display =\n",
              "        google.colab.kernel.accessAllowed ? 'block' : 'none';\n",
              "\n",
              "      async function convertToInteractive(key) {\n",
              "        const element = document.querySelector('#df-59c8c012-3623-42ae-a24d-b71aac1c62d1');\n",
              "        const dataTable =\n",
              "          await google.colab.kernel.invokeFunction('convertToInteractive',\n",
              "                                                    [key], {});\n",
              "        if (!dataTable) return;\n",
              "\n",
              "        const docLinkHtml = 'Like what you see? Visit the ' +\n",
              "          '<a target=\"_blank\" href=https://colab.research.google.com/notebooks/data_table.ipynb>data table notebook</a>'\n",
              "          + ' to learn more about interactive tables.';\n",
              "        element.innerHTML = '';\n",
              "        dataTable['output_type'] = 'display_data';\n",
              "        await google.colab.output.renderOutput(dataTable, element);\n",
              "        const docLink = document.createElement('div');\n",
              "        docLink.innerHTML = docLinkHtml;\n",
              "        element.appendChild(docLink);\n",
              "      }\n",
              "    </script>\n",
              "  </div>\n",
              "\n",
              "\n",
              "<div id=\"df-dc82ddad-39de-4ef6-9c85-917649d2a6a0\">\n",
              "  <button class=\"colab-df-quickchart\" onclick=\"quickchart('df-dc82ddad-39de-4ef6-9c85-917649d2a6a0')\"\n",
              "            title=\"Suggest charts.\"\n",
              "            style=\"display:none;\">\n",
              "\n",
              "<svg xmlns=\"http://www.w3.org/2000/svg\" height=\"24px\"viewBox=\"0 0 24 24\"\n",
              "     width=\"24px\">\n",
              "    <g>\n",
              "        <path d=\"M19 3H5c-1.1 0-2 .9-2 2v14c0 1.1.9 2 2 2h14c1.1 0 2-.9 2-2V5c0-1.1-.9-2-2-2zM9 17H7v-7h2v7zm4 0h-2V7h2v10zm4 0h-2v-4h2v4z\"/>\n",
              "    </g>\n",
              "</svg>\n",
              "  </button>\n",
              "\n",
              "<style>\n",
              "  .colab-df-quickchart {\n",
              "      --bg-color: #E8F0FE;\n",
              "      --fill-color: #1967D2;\n",
              "      --hover-bg-color: #E2EBFA;\n",
              "      --hover-fill-color: #174EA6;\n",
              "      --disabled-fill-color: #AAA;\n",
              "      --disabled-bg-color: #DDD;\n",
              "  }\n",
              "\n",
              "  [theme=dark] .colab-df-quickchart {\n",
              "      --bg-color: #3B4455;\n",
              "      --fill-color: #D2E3FC;\n",
              "      --hover-bg-color: #434B5C;\n",
              "      --hover-fill-color: #FFFFFF;\n",
              "      --disabled-bg-color: #3B4455;\n",
              "      --disabled-fill-color: #666;\n",
              "  }\n",
              "\n",
              "  .colab-df-quickchart {\n",
              "    background-color: var(--bg-color);\n",
              "    border: none;\n",
              "    border-radius: 50%;\n",
              "    cursor: pointer;\n",
              "    display: none;\n",
              "    fill: var(--fill-color);\n",
              "    height: 32px;\n",
              "    padding: 0;\n",
              "    width: 32px;\n",
              "  }\n",
              "\n",
              "  .colab-df-quickchart:hover {\n",
              "    background-color: var(--hover-bg-color);\n",
              "    box-shadow: 0 1px 2px rgba(60, 64, 67, 0.3), 0 1px 3px 1px rgba(60, 64, 67, 0.15);\n",
              "    fill: var(--button-hover-fill-color);\n",
              "  }\n",
              "\n",
              "  .colab-df-quickchart-complete:disabled,\n",
              "  .colab-df-quickchart-complete:disabled:hover {\n",
              "    background-color: var(--disabled-bg-color);\n",
              "    fill: var(--disabled-fill-color);\n",
              "    box-shadow: none;\n",
              "  }\n",
              "\n",
              "  .colab-df-spinner {\n",
              "    border: 2px solid var(--fill-color);\n",
              "    border-color: transparent;\n",
              "    border-bottom-color: var(--fill-color);\n",
              "    animation:\n",
              "      spin 1s steps(1) infinite;\n",
              "  }\n",
              "\n",
              "  @keyframes spin {\n",
              "    0% {\n",
              "      border-color: transparent;\n",
              "      border-bottom-color: var(--fill-color);\n",
              "      border-left-color: var(--fill-color);\n",
              "    }\n",
              "    20% {\n",
              "      border-color: transparent;\n",
              "      border-left-color: var(--fill-color);\n",
              "      border-top-color: var(--fill-color);\n",
              "    }\n",
              "    30% {\n",
              "      border-color: transparent;\n",
              "      border-left-color: var(--fill-color);\n",
              "      border-top-color: var(--fill-color);\n",
              "      border-right-color: var(--fill-color);\n",
              "    }\n",
              "    40% {\n",
              "      border-color: transparent;\n",
              "      border-right-color: var(--fill-color);\n",
              "      border-top-color: var(--fill-color);\n",
              "    }\n",
              "    60% {\n",
              "      border-color: transparent;\n",
              "      border-right-color: var(--fill-color);\n",
              "    }\n",
              "    80% {\n",
              "      border-color: transparent;\n",
              "      border-right-color: var(--fill-color);\n",
              "      border-bottom-color: var(--fill-color);\n",
              "    }\n",
              "    90% {\n",
              "      border-color: transparent;\n",
              "      border-bottom-color: var(--fill-color);\n",
              "    }\n",
              "  }\n",
              "</style>\n",
              "\n",
              "  <script>\n",
              "    async function quickchart(key) {\n",
              "      const quickchartButtonEl =\n",
              "        document.querySelector('#' + key + ' button');\n",
              "      quickchartButtonEl.disabled = true;  // To prevent multiple clicks.\n",
              "      quickchartButtonEl.classList.add('colab-df-spinner');\n",
              "      try {\n",
              "        const charts = await google.colab.kernel.invokeFunction(\n",
              "            'suggestCharts', [key], {});\n",
              "      } catch (error) {\n",
              "        console.error('Error during call to suggestCharts:', error);\n",
              "      }\n",
              "      quickchartButtonEl.classList.remove('colab-df-spinner');\n",
              "      quickchartButtonEl.classList.add('colab-df-quickchart-complete');\n",
              "    }\n",
              "    (() => {\n",
              "      let quickchartButtonEl =\n",
              "        document.querySelector('#df-dc82ddad-39de-4ef6-9c85-917649d2a6a0 button');\n",
              "      quickchartButtonEl.style.display =\n",
              "        google.colab.kernel.accessAllowed ? 'block' : 'none';\n",
              "    })();\n",
              "  </script>\n",
              "</div>\n",
              "    </div>\n",
              "  </div>\n"
            ]
          },
          "metadata": {},
          "execution_count": 39
        }
      ],
      "source": [
        "data_frame.head()"
      ]
    },
    {
      "cell_type": "code",
      "execution_count": null,
      "metadata": {
        "id": "0S4Lvw3cdU1O"
      },
      "outputs": [],
      "source": [
        "df=data_frame.reset_index()['High']"
      ]
    },
    {
      "cell_type": "code",
      "source": [
        "\n",
        "df.head()"
      ],
      "metadata": {
        "id": "NvlufGVOUNC3",
        "colab": {
          "base_uri": "https://localhost:8080/"
        },
        "outputId": "3ef27eb8-4579-464b-f739-9cf5b976cdfc"
      },
      "execution_count": null,
      "outputs": [
        {
          "output_type": "execute_result",
          "data": {
            "text/plain": [
              "0    56.8561\n",
              "1    55.9676\n",
              "2    56.9548\n",
              "3    56.6827\n",
              "4    56.2510\n",
              "Name: High, dtype: float64"
            ]
          },
          "metadata": {},
          "execution_count": 41
        }
      ]
    },
    {
      "cell_type": "code",
      "source": [
        "\n",
        "df.describe()"
      ],
      "metadata": {
        "colab": {
          "base_uri": "https://localhost:8080/"
        },
        "id": "O1PclipMtX6j",
        "outputId": "7d2d32f1-e367-48a4-e6c2-1ed7a9efd73a"
      },
      "execution_count": null,
      "outputs": [
        {
          "output_type": "execute_result",
          "data": {
            "text/plain": [
              "count    1123.000000\n",
              "mean      191.472158\n",
              "std       175.745729\n",
              "min        26.672800\n",
              "25%        54.060925\n",
              "50%       125.519800\n",
              "75%       311.498415\n",
              "max       909.338091\n",
              "Name: High, dtype: float64"
            ]
          },
          "metadata": {},
          "execution_count": 42
        }
      ]
    },
    {
      "cell_type": "code",
      "execution_count": null,
      "metadata": {
        "colab": {
          "base_uri": "https://localhost:8080/"
        },
        "id": "6NbgnmBIdU3L",
        "outputId": "45356a6b-061f-43b6-a358-890f48fa5045"
      },
      "outputs": [
        {
          "output_type": "execute_result",
          "data": {
            "text/plain": [
              "count    1123.000000\n",
              "mean      191.472158\n",
              "std       175.745729\n",
              "min        26.672800\n",
              "25%        54.060925\n",
              "50%       125.519800\n",
              "75%       311.498415\n",
              "max       909.338091\n",
              "Name: High, dtype: float64"
            ]
          },
          "metadata": {},
          "execution_count": 43
        }
      ],
      "source": [
        "\n",
        "df.describe()"
      ]
    },
    {
      "cell_type": "code",
      "execution_count": null,
      "metadata": {
        "colab": {
          "base_uri": "https://localhost:8080/",
          "height": 447
        },
        "id": "HJZqwQp-dU5u",
        "outputId": "54982c18-d826-4881-91de-d88e2de5270c"
      },
      "outputs": [
        {
          "output_type": "execute_result",
          "data": {
            "text/plain": [
              "[<matplotlib.lines.Line2D at 0x78705f10ddb0>]"
            ]
          },
          "metadata": {},
          "execution_count": 44
        },
        {
          "output_type": "display_data",
          "data": {
            "text/plain": [
              "<Figure size 640x480 with 1 Axes>"
            ],
            "image/png": "[encoded data removed]"
          },
          "metadata": {}
        }
      ],
      "source": [
        "plt.plot(df)"
      ]
    },
    {
      "cell_type": "code",
      "execution_count": null,
      "metadata": {
        "id": "S8UbfELKdU-3"
      },
      "outputs": [],
      "source": [
        "#Standardize Data frame\n",
        "from sklearn.preprocessing import MinMaxScaler\n",
        "scaler = MinMaxScaler(feature_range=(0,1))\n",
        "df=scaler.fit_transform(np.array(df).reshape(-1,1))"
      ]
    },
    {
      "cell_type": "code",
      "execution_count": null,
      "metadata": {
        "id": "UXLXdbP3dVEP"
      },
      "outputs": [],
      "source": [
        "training_size=int(len(df)*0.75)\n",
        "test_size=len(df)-training_size\n",
        "train_data,test_data=df[0:training_size,:],df[training_size:len(df),:1]"
      ]
    },
    {
      "cell_type": "code",
      "execution_count": null,
      "metadata": {
        "colab": {
          "base_uri": "https://localhost:8080/"
        },
        "id": "q0DtdybCdVHH",
        "outputId": "813cdb27-b8d6-493c-b88d-ac89547880e6"
      },
      "outputs": [
        {
          "output_type": "execute_result",
          "data": {
            "text/plain": [
              "(842, 281)"
            ]
          },
          "metadata": {},
          "execution_count": 47
        }
      ],
      "source": [
        "training_size,test_size"
      ]
    },
    {
      "cell_type": "code",
      "execution_count": null,
      "metadata": {
        "id": "dJbr00dxdVMv"
      },
      "outputs": [],
      "source": [
        "#Function to create data set.\n",
        "def create_dataset(dataset, step):\n",
        "\tX, Y = [], []\n",
        "\tfor i in range(len(dataset)-step-1):\n",
        "\t\ttemp = dataset[i:(i+step), 0]\n",
        "\t\tX.append(temp)\n",
        "\t\tY.append(dataset[i + step, 0] )\n",
        "\treturn np.array(X), np.array(Y)"
      ]
    },
    {
      "cell_type": "code",
      "execution_count": null,
      "metadata": {
        "id": "Gq4T8xJpdVPn"
      },
      "outputs": [],
      "source": [
        "step = 200\n",
        "X_train, y_train = create_dataset(train_data, step)\n",
        "X_test, ytest = create_dataset(test_data, step)"
      ]
    },
    {
      "cell_type": "code",
      "execution_count": null,
      "metadata": {
        "colab": {
          "base_uri": "https://localhost:8080/"
        },
        "id": "0q5QAFIR9QcL",
        "outputId": "e31493d0-0402-45b5-fa9b-334b30ad43f3"
      },
      "outputs": [
        {
          "output_type": "execute_result",
          "data": {
            "text/plain": [
              "array([[0.03419563, 0.03318902, 0.03430746, ..., 0.03894883, 0.03223759,\n",
              "        0.02890269],\n",
              "       [0.03318902, 0.03430746, 0.03399918, ..., 0.03223759, 0.02890269,\n",
              "        0.03013849],\n",
              "       [0.03430746, 0.03399918, 0.0335101 , ..., 0.02890269, 0.03013849,\n",
              "        0.03068536],\n",
              "       ...,\n",
              "       [0.35184355, 0.35876079, 0.38038519, ..., 0.73910618, 0.73872189,\n",
              "        0.74733561],\n",
              "       [0.35876079, 0.38038519, 0.38935508, ..., 0.73872189, 0.74733561,\n",
              "        0.72623429],\n",
              "       [0.38038519, 0.38935508, 0.38081153, ..., 0.74733561, 0.72623429,\n",
              "        0.63774707]])"
            ]
          },
          "metadata": {},
          "execution_count": 50
        }
      ],
      "source": [
        "X_train"
      ]
    },
    {
      "cell_type": "code",
      "execution_count": null,
      "metadata": {
        "colab": {
          "base_uri": "https://localhost:8080/"
        },
        "id": "l5u0vYlkdVSx",
        "outputId": "192d8e1b-f3c4-4169-ed61-7be7fb2ff1da"
      },
      "outputs": [
        {
          "output_type": "stream",
          "name": "stdout",
          "text": [
            "(641, 200)\n",
            "(641,)\n"
          ]
        },
        {
          "output_type": "execute_result",
          "data": {
            "text/plain": [
              "(None, None)"
            ]
          },
          "metadata": {},
          "execution_count": 51
        }
      ],
      "source": [
        "print(X_train.shape), print(y_train.shape)"
      ]
    },
    {
      "cell_type": "code",
      "execution_count": null,
      "metadata": {
        "id": "DwQdCTNmdVVj"
      },
      "outputs": [],
      "source": [
        "#Reshaping dataset\n",
        "#X_train =X_train.reshape(X_train.shape[0],X_train.shape[1] , 1)\n",
        "#X_test = X_test.reshape(X_test.shape[0],X_test.shape[1] , 1)"
      ]
    },
    {
      "cell_type": "code",
      "execution_count": null,
      "metadata": {
        "id": "lr68vjTDdVbu"
      },
      "outputs": [],
      "source": [
        "#Creating Model\n",
        "model=Sequential()\n",
        "model.add(LSTM(100,return_sequences=True,input_shape=(200,1)))\n",
        "model.add(LSTM(50,return_sequences=True))\n",
        "model.add(LSTM(50))\n",
        "model.add(Dense(1))\n",
        "model.compile(loss='mean_squared_error',optimizer='adam')\n",
        "\n",
        "#from tensorflow.keras.layers import LSTM, Dense, Dropout\n",
        "\n",
        "\n",
        "#model = Sequential([\n",
        "#    LSTM(64, activation='relu', return_sequences=True, input_shape=(X_train.shape[1], 1)),\n",
        "#    Dropout(0.2),\n",
        " #   LSTM(64, activation='relu', return_sequences=True),\n",
        " #   Dropout(0.2),\n",
        "#    LSTM(64, activation='relu', return_sequences=True),\n",
        "#    Dropout(0.2),\n",
        " #   LSTM(64, activation='relu'),\n",
        "  #  Dropout(0.2),\n",
        " #   Dense(1)\n",
        "#])\n"
      ]
    },
    {
      "cell_type": "code",
      "execution_count": null,
      "metadata": {
        "colab": {
          "base_uri": "https://localhost:8080/"
        },
        "id": "ewLkhZqzdVed",
        "outputId": "7b97ba92-8e77-4b0d-f224-65ca2eb3a1d7"
      },
      "outputs": [
        {
          "output_type": "stream",
          "name": "stdout",
          "text": [
            "Model: \"sequential_1\"\n",
            "_________________________________________________________________\n",
            " Layer (type)                Output Shape              Param #   \n",
            "=================================================================\n",
            " lstm_3 (LSTM)               (None, 200, 100)          40800     \n",
            "                                                                 \n",
            " lstm_4 (LSTM)               (None, 200, 50)           30200     \n",
            "                                                                 \n",
            " lstm_5 (LSTM)               (None, 50)                20200     \n",
            "                                                                 \n",
            " dense_1 (Dense)             (None, 1)                 51        \n",
            "                                                                 \n",
            "=================================================================\n",
            "Total params: 91251 (356.45 KB)\n",
            "Trainable params: 91251 (356.45 KB)\n",
            "Non-trainable params: 0 (0.00 Byte)\n",
            "_________________________________________________________________\n"
          ]
        }
      ],
      "source": [
        "model.summary()"
      ]
    },
    {
      "cell_type": "code",
      "execution_count": 55,
      "metadata": {
        "colab": {
          "base_uri": "https://localhost:8080/"
        },
        "id": "znnbX-mQdVhU",
        "outputId": "391b527f-dc2b-4f7d-e618-40cbd7e9098e"
      },
      "outputs": [
        {
          "metadata": {
            "tags": null
          },
          "name": "stdout",
          "output_type": "stream",
          "text": [
            "Epoch 1/350\n"
          ]
        },
        {
          "metadata": {
            "tags": null
          },
          "name": "stderr",
          "output_type": "stream",
          "text": [
            "/usr/local/lib/python3.10/dist-packages/tensorflow/python/data/ops/structured_function.py:265: UserWarning: Even though the `tf.config.experimental_run_functions_eagerly` option is set, this option does not apply to tf.data functions. To force eager execution of tf.data functions, please use `tf.data.experimental.enable_debug_mode()`.\n",
            "  warnings.warn(\n"
          ]
        },
        {
          "output_type": "stream",
          "name": "stdout",
          "text": [
            "11/11 [==============================] - 20s 2s/step - loss: 0.0260 - val_loss: 0.0014\n",
            "Epoch 2/350\n",
            "11/11 [==============================] - 18s 2s/step - loss: 0.0075 - val_loss: 0.0016\n",
            "Epoch 3/350\n",
            "11/11 [==============================] - 19s 2s/step - loss: 0.0042 - val_loss: 0.0015\n",
            "Epoch 4/350\n",
            "11/11 [==============================] - 18s 2s/step - loss: 0.0033 - val_loss: 0.0013\n",
            "Epoch 5/350\n",
            "11/11 [==============================] - 18s 2s/step - loss: 0.0032 - val_loss: 0.0015\n",
            "Epoch 6/350\n",
            "11/11 [==============================] - 18s 2s/step - loss: 0.0030 - val_loss: 0.0013\n",
            "Epoch 7/350\n",
            "11/11 [==============================] - 20s 2s/step - loss: 0.0029 - val_loss: 0.0012\n",
            "Epoch 8/350\n",
            "11/11 [==============================] - 18s 2s/step - loss: 0.0026 - val_loss: 0.0013\n",
            "Epoch 9/350\n",
            "11/11 [==============================] - 18s 2s/step - loss: 0.0024 - val_loss: 0.0012\n",
            "Epoch 10/350\n",
            "11/11 [==============================] - 18s 2s/step - loss: 0.0028 - val_loss: 0.0014\n",
            "Epoch 11/350\n",
            "11/11 [==============================] - 18s 2s/step - loss: 0.0028 - val_loss: 0.0013\n",
            "Epoch 12/350\n",
            "11/11 [==============================] - 18s 2s/step - loss: 0.0026 - val_loss: 0.0012\n",
            "Epoch 13/350\n",
            "11/11 [==============================] - 18s 2s/step - loss: 0.0021 - val_loss: 0.0012\n",
            "Epoch 14/350\n",
            "11/11 [==============================] - 18s 2s/step - loss: 0.0020 - val_loss: 0.0012\n",
            "Epoch 15/350\n",
            "11/11 [==============================] - 18s 2s/step - loss: 0.0019 - val_loss: 0.0012\n",
            "Epoch 16/350\n",
            "11/11 [==============================] - 19s 2s/step - loss: 0.0018 - val_loss: 0.0011\n",
            "Epoch 17/350\n",
            "11/11 [==============================] - 18s 2s/step - loss: 0.0018 - val_loss: 0.0011\n",
            "Epoch 18/350\n",
            "11/11 [==============================] - 19s 2s/step - loss: 0.0017 - val_loss: 0.0012\n",
            "Epoch 19/350\n",
            "11/11 [==============================] - 18s 2s/step - loss: 0.0016 - val_loss: 0.0016\n",
            "Epoch 20/350\n",
            "11/11 [==============================] - 19s 2s/step - loss: 0.0017 - val_loss: 0.0018\n",
            "Epoch 21/350\n",
            "11/11 [==============================] - 18s 2s/step - loss: 0.0030 - val_loss: 0.0014\n",
            "Epoch 22/350\n",
            "11/11 [==============================] - 19s 2s/step - loss: 0.0019 - val_loss: 0.0011\n",
            "Epoch 23/350\n",
            "11/11 [==============================] - 18s 2s/step - loss: 0.0015 - val_loss: 0.0011\n",
            "Epoch 24/350\n",
            "11/11 [==============================] - 19s 2s/step - loss: 0.0015 - val_loss: 0.0010\n",
            "Epoch 25/350\n",
            "11/11 [==============================] - 18s 2s/step - loss: 0.0014 - val_loss: 0.0011\n",
            "Epoch 26/350\n",
            "11/11 [==============================] - 19s 2s/step - loss: 0.0014 - val_loss: 0.0011\n",
            "Epoch 27/350\n",
            "11/11 [==============================] - 18s 2s/step - loss: 0.0015 - val_loss: 0.0010\n",
            "Epoch 28/350\n",
            "11/11 [==============================] - 18s 2s/step - loss: 0.0014 - val_loss: 0.0013\n",
            "Epoch 29/350\n",
            "11/11 [==============================] - 19s 2s/step - loss: 0.0013 - val_loss: 0.0010\n",
            "Epoch 30/350\n",
            "11/11 [==============================] - 19s 2s/step - loss: 0.0013 - val_loss: 9.9732e-04\n",
            "Epoch 31/350\n",
            "11/11 [==============================] - 18s 2s/step - loss: 0.0013 - val_loss: 0.0011\n",
            "Epoch 32/350\n",
            "11/11 [==============================] - 18s 2s/step - loss: 0.0012 - val_loss: 9.9466e-04\n",
            "Epoch 33/350\n",
            "11/11 [==============================] - 18s 2s/step - loss: 0.0013 - val_loss: 0.0010\n",
            "Epoch 34/350\n",
            "11/11 [==============================] - 18s 2s/step - loss: 0.0013 - val_loss: 0.0011\n",
            "Epoch 35/350\n",
            "11/11 [==============================] - 18s 2s/step - loss: 0.0014 - val_loss: 0.0010\n",
            "Epoch 36/350\n",
            "11/11 [==============================] - 18s 2s/step - loss: 0.0012 - val_loss: 9.1654e-04\n",
            "Epoch 37/350\n",
            "11/11 [==============================] - 18s 2s/step - loss: 0.0015 - val_loss: 9.0215e-04\n",
            "Epoch 38/350\n",
            "11/11 [==============================] - 18s 2s/step - loss: 0.0014 - val_loss: 9.0842e-04\n",
            "Epoch 39/350\n",
            "11/11 [==============================] - 19s 2s/step - loss: 0.0012 - val_loss: 8.4871e-04\n",
            "Epoch 40/350\n",
            "11/11 [==============================] - 18s 2s/step - loss: 0.0013 - val_loss: 8.3165e-04\n",
            "Epoch 41/350\n",
            "11/11 [==============================] - 19s 2s/step - loss: 0.0017 - val_loss: 8.2809e-04\n",
            "Epoch 42/350\n",
            "11/11 [==============================] - 18s 2s/step - loss: 0.0012 - val_loss: 8.3432e-04\n",
            "Epoch 43/350\n",
            "11/11 [==============================] - 19s 2s/step - loss: 0.0012 - val_loss: 8.7410e-04\n",
            "Epoch 44/350\n",
            "11/11 [==============================] - 18s 2s/step - loss: 9.6611e-04 - val_loss: 8.3036e-04\n",
            "Epoch 45/350\n",
            "11/11 [==============================] - 19s 2s/step - loss: 9.8754e-04 - val_loss: 7.7730e-04\n",
            "Epoch 46/350\n",
            "11/11 [==============================] - 18s 2s/step - loss: 0.0011 - val_loss: 7.9244e-04\n",
            "Epoch 47/350\n",
            "11/11 [==============================] - 19s 2s/step - loss: 0.0012 - val_loss: 7.6338e-04\n",
            "Epoch 48/350\n",
            "11/11 [==============================] - 18s 2s/step - loss: 0.0010 - val_loss: 8.2170e-04\n",
            "Epoch 49/350\n",
            "11/11 [==============================] - 19s 2s/step - loss: 8.8066e-04 - val_loss: 7.6448e-04\n",
            "Epoch 50/350\n",
            "11/11 [==============================] - 18s 2s/step - loss: 8.7454e-04 - val_loss: 7.7194e-04\n",
            "Epoch 51/350\n",
            "11/11 [==============================] - 18s 2s/step - loss: 9.8697e-04 - val_loss: 8.6588e-04\n",
            "Epoch 52/350\n",
            "11/11 [==============================] - 18s 2s/step - loss: 9.0036e-04 - val_loss: 7.5768e-04\n",
            "Epoch 53/350\n",
            "11/11 [==============================] - 18s 2s/step - loss: 0.0011 - val_loss: 7.3715e-04\n",
            "Epoch 54/350\n",
            "11/11 [==============================] - 19s 2s/step - loss: 8.4178e-04 - val_loss: 7.0840e-04\n",
            "Epoch 55/350\n",
            "11/11 [==============================] - 18s 2s/step - loss: 7.7551e-04 - val_loss: 6.8844e-04\n",
            "Epoch 56/350\n",
            "11/11 [==============================] - 19s 2s/step - loss: 7.8535e-04 - val_loss: 9.7006e-04\n",
            "Epoch 57/350\n",
            "11/11 [==============================] - 18s 2s/step - loss: 0.0025 - val_loss: 6.7838e-04\n",
            "Epoch 58/350\n",
            "11/11 [==============================] - 18s 2s/step - loss: 0.0014 - val_loss: 7.4359e-04\n",
            "Epoch 59/350\n",
            "11/11 [==============================] - 18s 2s/step - loss: 8.4146e-04 - val_loss: 7.3334e-04\n",
            "Epoch 60/350\n",
            "11/11 [==============================] - 18s 2s/step - loss: 7.9690e-04 - val_loss: 7.1803e-04\n",
            "Epoch 61/350\n",
            "11/11 [==============================] - 18s 2s/step - loss: 7.7451e-04 - val_loss: 6.6869e-04\n",
            "Epoch 62/350\n",
            "11/11 [==============================] - 18s 2s/step - loss: 8.0376e-04 - val_loss: 6.8264e-04\n",
            "Epoch 63/350\n",
            "11/11 [==============================] - 18s 2s/step - loss: 7.6975e-04 - val_loss: 7.1538e-04\n",
            "Epoch 64/350\n",
            "11/11 [==============================] - 18s 2s/step - loss: 7.3049e-04 - val_loss: 8.3533e-04\n",
            "Epoch 65/350\n",
            "11/11 [==============================] - 18s 2s/step - loss: 9.8105e-04 - val_loss: 6.3793e-04\n",
            "Epoch 66/350\n",
            "11/11 [==============================] - 18s 2s/step - loss: 7.6617e-04 - val_loss: 7.7287e-04\n",
            "Epoch 67/350\n",
            "11/11 [==============================] - 20s 2s/step - loss: 9.2609e-04 - val_loss: 6.1219e-04\n",
            "Epoch 68/350\n",
            "11/11 [==============================] - 18s 2s/step - loss: 7.2567e-04 - val_loss: 6.6578e-04\n",
            "Epoch 69/350\n",
            "11/11 [==============================] - 19s 2s/step - loss: 6.9219e-04 - val_loss: 9.1478e-04\n",
            "Epoch 70/350\n",
            "11/11 [==============================] - 18s 2s/step - loss: 0.0011 - val_loss: 5.9539e-04\n",
            "Epoch 71/350\n",
            "11/11 [==============================] - 19s 2s/step - loss: 6.9136e-04 - val_loss: 6.1646e-04\n",
            "Epoch 72/350\n",
            "11/11 [==============================] - 18s 2s/step - loss: 6.7349e-04 - val_loss: 5.8906e-04\n",
            "Epoch 73/350\n",
            "11/11 [==============================] - 19s 2s/step - loss: 6.7849e-04 - val_loss: 6.0765e-04\n",
            "Epoch 74/350\n",
            "11/11 [==============================] - 18s 2s/step - loss: 6.5645e-04 - val_loss: 5.8423e-04\n",
            "Epoch 75/350\n",
            "11/11 [==============================] - 19s 2s/step - loss: 8.8221e-04 - val_loss: 6.4269e-04\n",
            "Epoch 76/350\n",
            "11/11 [==============================] - 18s 2s/step - loss: 9.3056e-04 - val_loss: 5.7396e-04\n",
            "Epoch 77/350\n",
            "11/11 [==============================] - 18s 2s/step - loss: 7.5259e-04 - val_loss: 5.8975e-04\n",
            "Epoch 78/350\n",
            "11/11 [==============================] - 18s 2s/step - loss: 6.7902e-04 - val_loss: 6.1192e-04\n",
            "Epoch 79/350\n",
            "11/11 [==============================] - 18s 2s/step - loss: 7.0472e-04 - val_loss: 5.7411e-04\n",
            "Epoch 80/350\n",
            "11/11 [==============================] - 18s 2s/step - loss: 6.3029e-04 - val_loss: 6.7333e-04\n",
            "Epoch 81/350\n",
            "11/11 [==============================] - 18s 2s/step - loss: 7.0503e-04 - val_loss: 7.0839e-04\n",
            "Epoch 82/350\n",
            "11/11 [==============================] - 19s 2s/step - loss: 8.9474e-04 - val_loss: 8.2041e-04\n",
            "Epoch 83/350\n",
            "11/11 [==============================] - 18s 2s/step - loss: 8.3062e-04 - val_loss: 0.0011\n",
            "Epoch 84/350\n",
            "11/11 [==============================] - 18s 2s/step - loss: 0.0041 - val_loss: 0.0013\n",
            "Epoch 85/350\n",
            "11/11 [==============================] - 18s 2s/step - loss: 0.0018 - val_loss: 0.0015\n",
            "Epoch 86/350\n",
            "11/11 [==============================] - 20s 2s/step - loss: 0.0049 - val_loss: 0.0014\n",
            "Epoch 87/350\n",
            "11/11 [==============================] - 18s 2s/step - loss: 0.0017 - val_loss: 8.5800e-04\n",
            "Epoch 88/350\n",
            "11/11 [==============================] - 19s 2s/step - loss: 0.0011 - val_loss: 6.8342e-04\n",
            "Epoch 89/350\n",
            "11/11 [==============================] - 18s 2s/step - loss: 7.8796e-04 - val_loss: 5.8549e-04\n",
            "Epoch 90/350\n",
            "11/11 [==============================] - 19s 2s/step - loss: 6.4768e-04 - val_loss: 5.6548e-04\n",
            "Epoch 91/350\n",
            "11/11 [==============================] - 18s 2s/step - loss: 6.4891e-04 - val_loss: 5.4366e-04\n",
            "Epoch 92/350\n",
            "11/11 [==============================] - 20s 2s/step - loss: 6.1463e-04 - val_loss: 5.5917e-04\n",
            "Epoch 93/350\n",
            "11/11 [==============================] - 18s 2s/step - loss: 6.6116e-04 - val_loss: 5.6587e-04\n",
            "Epoch 94/350\n",
            "11/11 [==============================] - 18s 2s/step - loss: 5.7638e-04 - val_loss: 5.4907e-04\n",
            "Epoch 95/350\n",
            "11/11 [==============================] - 18s 2s/step - loss: 5.7817e-04 - val_loss: 5.5141e-04\n",
            "Epoch 96/350\n",
            "11/11 [==============================] - 20s 2s/step - loss: 6.9471e-04 - val_loss: 6.3799e-04\n",
            "Epoch 97/350\n",
            "11/11 [==============================] - 18s 2s/step - loss: 6.9671e-04 - val_loss: 5.2586e-04\n",
            "Epoch 98/350\n",
            "11/11 [==============================] - 18s 2s/step - loss: 5.7385e-04 - val_loss: 5.1125e-04\n",
            "Epoch 99/350\n",
            "11/11 [==============================] - 18s 2s/step - loss: 5.7002e-04 - val_loss: 5.0121e-04\n",
            "Epoch 100/350\n",
            "11/11 [==============================] - 18s 2s/step - loss: 5.5807e-04 - val_loss: 4.9438e-04\n",
            "Epoch 101/350\n",
            "11/11 [==============================] - 18s 2s/step - loss: 5.4262e-04 - val_loss: 4.9011e-04\n",
            "Epoch 102/350\n",
            "11/11 [==============================] - 18s 2s/step - loss: 5.3391e-04 - val_loss: 5.1692e-04\n",
            "Epoch 103/350\n",
            "11/11 [==============================] - 18s 2s/step - loss: 5.5267e-04 - val_loss: 4.8080e-04\n",
            "Epoch 104/350\n",
            "11/11 [==============================] - 18s 2s/step - loss: 5.4361e-04 - val_loss: 5.0665e-04\n",
            "Epoch 105/350\n",
            "11/11 [==============================] - 19s 2s/step - loss: 5.3916e-04 - val_loss: 4.6988e-04\n",
            "Epoch 106/350\n",
            "11/11 [==============================] - 18s 2s/step - loss: 5.9317e-04 - val_loss: 5.6224e-04\n",
            "Epoch 107/350\n",
            "11/11 [==============================] - 20s 2s/step - loss: 5.8485e-04 - val_loss: 6.0136e-04\n",
            "Epoch 108/350\n",
            "11/11 [==============================] - 18s 2s/step - loss: 6.9950e-04 - val_loss: 4.6778e-04\n",
            "Epoch 109/350\n",
            "11/11 [==============================] - 20s 2s/step - loss: 5.4928e-04 - val_loss: 4.5372e-04\n",
            "Epoch 110/350\n",
            "11/11 [==============================] - 18s 2s/step - loss: 5.1996e-04 - val_loss: 4.5414e-04\n",
            "Epoch 111/350\n",
            "11/11 [==============================] - 20s 2s/step - loss: 5.4723e-04 - val_loss: 4.5185e-04\n",
            "Epoch 112/350\n",
            "11/11 [==============================] - 18s 2s/step - loss: 5.4636e-04 - val_loss: 4.4603e-04\n",
            "Epoch 113/350\n",
            "11/11 [==============================] - 18s 2s/step - loss: 5.1543e-04 - val_loss: 4.8036e-04\n",
            "Epoch 114/350\n",
            "11/11 [==============================] - 18s 2s/step - loss: 5.1984e-04 - val_loss: 4.6615e-04\n",
            "Epoch 115/350\n",
            "11/11 [==============================] - 19s 2s/step - loss: 5.1417e-04 - val_loss: 4.7361e-04\n",
            "Epoch 116/350\n",
            "11/11 [==============================] - 18s 2s/step - loss: 4.8641e-04 - val_loss: 4.3381e-04\n",
            "Epoch 117/350\n",
            "11/11 [==============================] - 19s 2s/step - loss: 5.2510e-04 - val_loss: 4.3672e-04\n",
            "Epoch 118/350\n",
            "11/11 [==============================] - 18s 2s/step - loss: 5.4108e-04 - val_loss: 4.3963e-04\n",
            "Epoch 119/350\n",
            "11/11 [==============================] - 19s 2s/step - loss: 4.9421e-04 - val_loss: 5.0835e-04\n",
            "Epoch 120/350\n",
            "11/11 [==============================] - 18s 2s/step - loss: 5.0717e-04 - val_loss: 4.5857e-04\n",
            "Epoch 121/350\n",
            "11/11 [==============================] - 20s 2s/step - loss: 5.2847e-04 - val_loss: 5.7307e-04\n",
            "Epoch 122/350\n",
            "11/11 [==============================] - 18s 2s/step - loss: 6.3950e-04 - val_loss: 4.1630e-04\n",
            "Epoch 123/350\n",
            "11/11 [==============================] - 20s 2s/step - loss: 5.2398e-04 - val_loss: 4.3872e-04\n",
            "Epoch 124/350\n",
            "11/11 [==============================] - 18s 2s/step - loss: 5.8639e-04 - val_loss: 4.1100e-04\n",
            "Epoch 125/350\n",
            "11/11 [==============================] - 20s 2s/step - loss: 4.8960e-04 - val_loss: 4.3383e-04\n",
            "Epoch 126/350\n",
            "11/11 [==============================] - 18s 2s/step - loss: 5.3998e-04 - val_loss: 4.1937e-04\n",
            "Epoch 127/350\n",
            "11/11 [==============================] - 20s 2s/step - loss: 5.7478e-04 - val_loss: 4.1502e-04\n",
            "Epoch 128/350\n",
            "11/11 [==============================] - 18s 2s/step - loss: 5.1159e-04 - val_loss: 4.3861e-04\n",
            "Epoch 129/350\n",
            "11/11 [==============================] - 19s 2s/step - loss: 8.6991e-04 - val_loss: 4.2086e-04\n",
            "Epoch 130/350\n",
            "11/11 [==============================] - 18s 2s/step - loss: 5.3172e-04 - val_loss: 4.8366e-04\n",
            "Epoch 131/350\n",
            "11/11 [==============================] - 19s 2s/step - loss: 5.2259e-04 - val_loss: 4.6542e-04\n",
            "Epoch 132/350\n",
            "11/11 [==============================] - 18s 2s/step - loss: 5.3579e-04 - val_loss: 4.0733e-04\n",
            "Epoch 133/350\n",
            "11/11 [==============================] - 19s 2s/step - loss: 4.8718e-04 - val_loss: 4.1184e-04\n",
            "Epoch 134/350\n",
            "11/11 [==============================] - 19s 2s/step - loss: 5.1381e-04 - val_loss: 3.9181e-04\n",
            "Epoch 135/350\n",
            "11/11 [==============================] - 18s 2s/step - loss: 4.8609e-04 - val_loss: 4.1328e-04\n",
            "Epoch 136/350\n",
            "11/11 [==============================] - 18s 2s/step - loss: 4.6577e-04 - val_loss: 3.9006e-04\n",
            "Epoch 137/350\n",
            "11/11 [==============================] - 18s 2s/step - loss: 4.6581e-04 - val_loss: 4.7163e-04\n",
            "Epoch 138/350\n",
            "11/11 [==============================] - 19s 2s/step - loss: 5.7609e-04 - val_loss: 4.5608e-04\n",
            "Epoch 139/350\n",
            "11/11 [==============================] - 18s 2s/step - loss: 4.9534e-04 - val_loss: 4.4961e-04\n",
            "Epoch 140/350\n",
            "11/11 [==============================] - 18s 2s/step - loss: 5.1259e-04 - val_loss: 3.8418e-04\n",
            "Epoch 141/350\n",
            "11/11 [==============================] - 18s 2s/step - loss: 4.4402e-04 - val_loss: 4.2124e-04\n",
            "Epoch 142/350\n",
            "11/11 [==============================] - 19s 2s/step - loss: 4.8055e-04 - val_loss: 4.3664e-04\n",
            "Epoch 143/350\n",
            "11/11 [==============================] - 18s 2s/step - loss: 4.8336e-04 - val_loss: 4.4416e-04\n",
            "Epoch 144/350\n",
            "11/11 [==============================] - 19s 2s/step - loss: 5.3125e-04 - val_loss: 4.2071e-04\n",
            "Epoch 145/350\n",
            "11/11 [==============================] - 18s 2s/step - loss: 4.9378e-04 - val_loss: 4.1792e-04\n",
            "Epoch 146/350\n",
            "11/11 [==============================] - 18s 2s/step - loss: 0.0012 - val_loss: 6.8972e-04\n",
            "Epoch 147/350\n",
            "11/11 [==============================] - 19s 2s/step - loss: 7.7481e-04 - val_loss: 6.8255e-04\n",
            "Epoch 148/350\n",
            "11/11 [==============================] - 18s 2s/step - loss: 7.3385e-04 - val_loss: 4.0562e-04\n",
            "Epoch 149/350\n",
            "11/11 [==============================] - 18s 2s/step - loss: 5.2467e-04 - val_loss: 3.8008e-04\n",
            "Epoch 150/350\n",
            "11/11 [==============================] - 18s 2s/step - loss: 4.5472e-04 - val_loss: 3.6860e-04\n",
            "Epoch 151/350\n",
            "11/11 [==============================] - 19s 2s/step - loss: 4.4567e-04 - val_loss: 3.7790e-04\n",
            "Epoch 152/350\n",
            "11/11 [==============================] - 18s 2s/step - loss: 4.7922e-04 - val_loss: 4.7933e-04\n",
            "Epoch 153/350\n",
            "11/11 [==============================] - 18s 2s/step - loss: 5.9712e-04 - val_loss: 4.1409e-04\n",
            "Epoch 154/350\n",
            "11/11 [==============================] - 18s 2s/step - loss: 5.3553e-04 - val_loss: 4.1199e-04\n",
            "Epoch 155/350\n",
            "11/11 [==============================] - 19s 2s/step - loss: 5.2186e-04 - val_loss: 3.7872e-04\n",
            "Epoch 156/350\n",
            "11/11 [==============================] - 18s 2s/step - loss: 4.5037e-04 - val_loss: 3.4832e-04\n",
            "Epoch 157/350\n",
            "11/11 [==============================] - 19s 2s/step - loss: 5.5135e-04 - val_loss: 3.9902e-04\n",
            "Epoch 158/350\n",
            "11/11 [==============================] - 18s 2s/step - loss: 5.1127e-04 - val_loss: 4.0822e-04\n",
            "Epoch 159/350\n",
            "11/11 [==============================] - 18s 2s/step - loss: 5.0166e-04 - val_loss: 4.4020e-04\n",
            "Epoch 160/350\n",
            "11/11 [==============================] - 19s 2s/step - loss: 5.6679e-04 - val_loss: 3.6339e-04\n",
            "Epoch 161/350\n",
            "11/11 [==============================] - 18s 2s/step - loss: 4.5533e-04 - val_loss: 3.4661e-04\n",
            "Epoch 162/350\n",
            "11/11 [==============================] - 18s 2s/step - loss: 4.6638e-04 - val_loss: 3.5785e-04\n",
            "Epoch 163/350\n",
            "11/11 [==============================] - 18s 2s/step - loss: 5.1614e-04 - val_loss: 3.6781e-04\n",
            "Epoch 164/350\n",
            "11/11 [==============================] - 19s 2s/step - loss: 5.2212e-04 - val_loss: 3.7367e-04\n",
            "Epoch 165/350\n",
            "11/11 [==============================] - 18s 2s/step - loss: 4.6307e-04 - val_loss: 3.5632e-04\n",
            "Epoch 166/350\n",
            "11/11 [==============================] - 18s 2s/step - loss: 4.3944e-04 - val_loss: 3.7509e-04\n",
            "Epoch 167/350\n",
            "11/11 [==============================] - 18s 2s/step - loss: 4.4800e-04 - val_loss: 3.4435e-04\n",
            "Epoch 168/350\n",
            "11/11 [==============================] - 18s 2s/step - loss: 4.2818e-04 - val_loss: 3.6875e-04\n",
            "Epoch 169/350\n",
            "11/11 [==============================] - 18s 2s/step - loss: 4.5235e-04 - val_loss: 5.4546e-04\n",
            "Epoch 170/350\n",
            "11/11 [==============================] - 18s 2s/step - loss: 6.9209e-04 - val_loss: 3.7165e-04\n",
            "Epoch 171/350\n",
            "11/11 [==============================] - 18s 2s/step - loss: 5.0132e-04 - val_loss: 3.4896e-04\n",
            "Epoch 172/350\n",
            "11/11 [==============================] - 18s 2s/step - loss: 4.5985e-04 - val_loss: 3.7641e-04\n",
            "Epoch 173/350\n",
            "11/11 [==============================] - 19s 2s/step - loss: 5.2473e-04 - val_loss: 3.4652e-04\n",
            "Epoch 174/350\n",
            "11/11 [==============================] - 18s 2s/step - loss: 4.8258e-04 - val_loss: 3.4072e-04\n",
            "Epoch 175/350\n",
            "11/11 [==============================] - 18s 2s/step - loss: 4.5042e-04 - val_loss: 3.3801e-04\n",
            "Epoch 176/350\n",
            "11/11 [==============================] - 18s 2s/step - loss: 4.4894e-04 - val_loss: 3.4681e-04\n",
            "Epoch 177/350\n",
            "11/11 [==============================] - 19s 2s/step - loss: 4.8545e-04 - val_loss: 5.3609e-04\n",
            "Epoch 178/350\n",
            "11/11 [==============================] - 18s 2s/step - loss: 0.0016 - val_loss: 3.4265e-04\n",
            "Epoch 179/350\n",
            "11/11 [==============================] - 18s 2s/step - loss: 6.1988e-04 - val_loss: 4.6047e-04\n",
            "Epoch 180/350\n",
            "11/11 [==============================] - 18s 2s/step - loss: 5.5836e-04 - val_loss: 4.1924e-04\n",
            "Epoch 181/350\n",
            "11/11 [==============================] - 18s 2s/step - loss: 6.2149e-04 - val_loss: 3.9826e-04\n",
            "Epoch 182/350\n",
            "11/11 [==============================] - 18s 2s/step - loss: 4.9957e-04 - val_loss: 3.7626e-04\n",
            "Epoch 183/350\n",
            "11/11 [==============================] - 18s 2s/step - loss: 7.0943e-04 - val_loss: 4.1609e-04\n",
            "Epoch 184/350\n",
            "11/11 [==============================] - 18s 2s/step - loss: 4.7166e-04 - val_loss: 3.5891e-04\n",
            "Epoch 185/350\n",
            "11/11 [==============================] - 18s 2s/step - loss: 4.4188e-04 - val_loss: 3.5610e-04\n",
            "Epoch 186/350\n",
            "11/11 [==============================] - 19s 2s/step - loss: 4.3163e-04 - val_loss: 3.6305e-04\n",
            "Epoch 187/350\n",
            "11/11 [==============================] - 18s 2s/step - loss: 4.2531e-04 - val_loss: 3.4341e-04\n",
            "Epoch 188/350\n",
            "11/11 [==============================] - 19s 2s/step - loss: 4.4223e-04 - val_loss: 5.1097e-04\n",
            "Epoch 189/350\n",
            "11/11 [==============================] - 18s 2s/step - loss: 0.0012 - val_loss: 7.2888e-04\n",
            "Epoch 190/350\n",
            "11/11 [==============================] - 19s 2s/step - loss: 6.3592e-04 - val_loss: 4.2214e-04\n",
            "Epoch 191/350\n",
            "11/11 [==============================] - 18s 2s/step - loss: 4.8785e-04 - val_loss: 3.4455e-04\n",
            "Epoch 192/350\n",
            "11/11 [==============================] - 20s 2s/step - loss: 4.5741e-04 - val_loss: 3.4945e-04\n",
            "Epoch 193/350\n",
            "11/11 [==============================] - 18s 2s/step - loss: 4.4650e-04 - val_loss: 3.4157e-04\n",
            "Epoch 194/350\n",
            "11/11 [==============================] - 19s 2s/step - loss: 4.2080e-04 - val_loss: 3.4718e-04\n",
            "Epoch 195/350\n",
            "11/11 [==============================] - 18s 2s/step - loss: 4.6111e-04 - val_loss: 3.6392e-04\n",
            "Epoch 196/350\n",
            "11/11 [==============================] - 18s 2s/step - loss: 4.2618e-04 - val_loss: 3.2664e-04\n",
            "Epoch 197/350\n",
            "11/11 [==============================] - 18s 2s/step - loss: 4.3914e-04 - val_loss: 3.6675e-04\n",
            "Epoch 198/350\n",
            "11/11 [==============================] - 18s 2s/step - loss: 4.5671e-04 - val_loss: 5.0717e-04\n",
            "Epoch 199/350\n",
            "11/11 [==============================] - 19s 2s/step - loss: 7.5441e-04 - val_loss: 3.9765e-04\n",
            "Epoch 200/350\n",
            "11/11 [==============================] - 18s 2s/step - loss: 5.0932e-04 - val_loss: 3.5293e-04\n",
            "Epoch 201/350\n",
            "11/11 [==============================] - 18s 2s/step - loss: 4.3181e-04 - val_loss: 3.3761e-04\n",
            "Epoch 202/350\n",
            "11/11 [==============================] - 18s 2s/step - loss: 4.2450e-04 - val_loss: 3.5149e-04\n",
            "Epoch 203/350\n",
            "11/11 [==============================] - 18s 2s/step - loss: 5.4698e-04 - val_loss: 4.4834e-04\n",
            "Epoch 204/350\n",
            "11/11 [==============================] - 18s 2s/step - loss: 5.0796e-04 - val_loss: 3.7172e-04\n",
            "Epoch 205/350\n",
            "11/11 [==============================] - 18s 2s/step - loss: 4.7224e-04 - val_loss: 3.4633e-04\n",
            "Epoch 206/350\n",
            "11/11 [==============================] - 18s 2s/step - loss: 4.5989e-04 - val_loss: 3.2546e-04\n",
            "Epoch 207/350\n",
            "11/11 [==============================] - 20s 2s/step - loss: 4.2579e-04 - val_loss: 3.7568e-04\n",
            "Epoch 208/350\n",
            "11/11 [==============================] - 18s 2s/step - loss: 5.7790e-04 - val_loss: 3.3520e-04\n",
            "Epoch 209/350\n",
            "11/11 [==============================] - 19s 2s/step - loss: 4.5515e-04 - val_loss: 3.8460e-04\n",
            "Epoch 210/350\n",
            "11/11 [==============================] - 18s 2s/step - loss: 4.6761e-04 - val_loss: 3.3678e-04\n",
            "Epoch 211/350\n",
            "11/11 [==============================] - 20s 2s/step - loss: 4.2392e-04 - val_loss: 3.3349e-04\n",
            "Epoch 212/350\n",
            "11/11 [==============================] - 19s 2s/step - loss: 4.4201e-04 - val_loss: 3.2129e-04\n",
            "Epoch 213/350\n",
            "11/11 [==============================] - 18s 2s/step - loss: 4.1321e-04 - val_loss: 3.2654e-04\n",
            "Epoch 214/350\n",
            "11/11 [==============================] - 18s 2s/step - loss: 4.1437e-04 - val_loss: 3.2324e-04\n",
            "Epoch 215/350\n",
            "11/11 [==============================] - 18s 2s/step - loss: 4.4261e-04 - val_loss: 3.3150e-04\n",
            "Epoch 216/350\n",
            "11/11 [==============================] - 19s 2s/step - loss: 4.9437e-04 - val_loss: 3.1210e-04\n",
            "Epoch 217/350\n",
            "11/11 [==============================] - 18s 2s/step - loss: 4.3136e-04 - val_loss: 3.0760e-04\n",
            "Epoch 218/350\n",
            "11/11 [==============================] - 18s 2s/step - loss: 4.2727e-04 - val_loss: 3.3468e-04\n",
            "Epoch 219/350\n",
            "11/11 [==============================] - 18s 2s/step - loss: 4.5256e-04 - val_loss: 9.9170e-04\n",
            "Epoch 220/350\n",
            "11/11 [==============================] - 20s 2s/step - loss: 0.0044 - val_loss: 0.0011\n",
            "Epoch 221/350\n",
            "11/11 [==============================] - 18s 2s/step - loss: 0.0013 - val_loss: 4.0099e-04\n",
            "Epoch 222/350\n",
            "11/11 [==============================] - 18s 2s/step - loss: 6.3873e-04 - val_loss: 3.6857e-04\n",
            "Epoch 223/350\n",
            "11/11 [==============================] - 18s 2s/step - loss: 4.5820e-04 - val_loss: 3.7243e-04\n",
            "Epoch 224/350\n",
            "11/11 [==============================] - 18s 2s/step - loss: 4.8583e-04 - val_loss: 3.4612e-04\n",
            "Epoch 225/350\n",
            "11/11 [==============================] - 19s 2s/step - loss: 4.6966e-04 - val_loss: 3.7281e-04\n",
            "Epoch 226/350\n",
            "11/11 [==============================] - 18s 2s/step - loss: 4.4804e-04 - val_loss: 3.3122e-04\n",
            "Epoch 227/350\n",
            "11/11 [==============================] - 18s 2s/step - loss: 4.3963e-04 - val_loss: 3.2280e-04\n",
            "Epoch 228/350\n",
            "11/11 [==============================] - 19s 2s/step - loss: 4.3579e-04 - val_loss: 0.0011\n",
            "Epoch 229/350\n",
            "11/11 [==============================] - 18s 2s/step - loss: 0.0044 - val_loss: 3.4539e-04\n",
            "Epoch 230/350\n",
            "11/11 [==============================] - 17s 2s/step - loss: 0.0011 - val_loss: 8.3554e-04\n",
            "Epoch 231/350\n",
            "11/11 [==============================] - 18s 2s/step - loss: 7.5003e-04 - val_loss: 3.3757e-04\n",
            "Epoch 232/350\n",
            "11/11 [==============================] - 18s 2s/step - loss: 5.6451e-04 - val_loss: 3.4373e-04\n",
            "Epoch 233/350\n",
            "11/11 [==============================] - 18s 2s/step - loss: 5.2775e-04 - val_loss: 3.3106e-04\n",
            "Epoch 234/350\n",
            "11/11 [==============================] - 17s 2s/step - loss: 4.3645e-04 - val_loss: 3.2577e-04\n",
            "Epoch 235/350\n",
            "11/11 [==============================] - 18s 2s/step - loss: 4.3690e-04 - val_loss: 3.2526e-04\n",
            "Epoch 236/350\n",
            "11/11 [==============================] - 17s 2s/step - loss: 4.3446e-04 - val_loss: 3.4818e-04\n",
            "Epoch 237/350\n",
            "11/11 [==============================] - 18s 2s/step - loss: 4.5269e-04 - val_loss: 3.1307e-04\n",
            "Epoch 238/350\n",
            "11/11 [==============================] - 17s 2s/step - loss: 4.3280e-04 - val_loss: 3.2264e-04\n",
            "Epoch 239/350\n",
            "11/11 [==============================] - 18s 2s/step - loss: 4.5139e-04 - val_loss: 4.2978e-04\n",
            "Epoch 240/350\n",
            "11/11 [==============================] - 18s 2s/step - loss: 9.2422e-04 - val_loss: 4.8517e-04\n",
            "Epoch 241/350\n",
            "11/11 [==============================] - 19s 2s/step - loss: 4.6608e-04 - val_loss: 3.2903e-04\n",
            "Epoch 242/350\n",
            "11/11 [==============================] - 17s 2s/step - loss: 4.4465e-04 - val_loss: 3.2653e-04\n",
            "Epoch 243/350\n",
            "11/11 [==============================] - 18s 2s/step - loss: 4.3470e-04 - val_loss: 3.6246e-04\n",
            "Epoch 244/350\n",
            "11/11 [==============================] - 17s 2s/step - loss: 4.4466e-04 - val_loss: 3.1773e-04\n",
            "Epoch 245/350\n",
            "11/11 [==============================] - 18s 2s/step - loss: 4.2940e-04 - val_loss: 3.1760e-04\n",
            "Epoch 246/350\n",
            "11/11 [==============================] - 18s 2s/step - loss: 4.1643e-04 - val_loss: 3.4648e-04\n",
            "Epoch 247/350\n",
            "11/11 [==============================] - 18s 2s/step - loss: 0.0014 - val_loss: 6.5825e-04\n",
            "Epoch 248/350\n",
            "11/11 [==============================] - 18s 2s/step - loss: 6.3658e-04 - val_loss: 6.0551e-04\n",
            "Epoch 249/350\n",
            "11/11 [==============================] - 18s 2s/step - loss: 6.1444e-04 - val_loss: 3.6737e-04\n",
            "Epoch 250/350\n",
            "11/11 [==============================] - 18s 2s/step - loss: 4.7347e-04 - val_loss: 3.1950e-04\n",
            "Epoch 251/350\n",
            "11/11 [==============================] - 18s 2s/step - loss: 4.2607e-04 - val_loss: 3.0226e-04\n",
            "Epoch 252/350\n",
            "11/11 [==============================] - 18s 2s/step - loss: 4.2024e-04 - val_loss: 4.9964e-04\n",
            "Epoch 253/350\n",
            "11/11 [==============================] - 19s 2s/step - loss: 0.0010 - val_loss: 6.5504e-04\n",
            "Epoch 254/350\n",
            "11/11 [==============================] - 18s 2s/step - loss: 6.9630e-04 - val_loss: 2.9921e-04\n",
            "Epoch 255/350\n",
            "11/11 [==============================] - 18s 2s/step - loss: 4.8313e-04 - val_loss: 3.1965e-04\n",
            "Epoch 256/350\n",
            "11/11 [==============================] - 17s 2s/step - loss: 4.3636e-04 - val_loss: 2.9855e-04\n",
            "Epoch 257/350\n",
            "11/11 [==============================] - 18s 2s/step - loss: 4.0714e-04 - val_loss: 3.0863e-04\n",
            "Epoch 258/350\n",
            "11/11 [==============================] - 18s 2s/step - loss: 4.3410e-04 - val_loss: 3.0687e-04\n",
            "Epoch 259/350\n",
            "11/11 [==============================] - 18s 2s/step - loss: 4.1655e-04 - val_loss: 2.9731e-04\n",
            "Epoch 260/350\n",
            "11/11 [==============================] - 17s 2s/step - loss: 4.0398e-04 - val_loss: 2.9561e-04\n",
            "Epoch 261/350\n",
            "11/11 [==============================] - 18s 2s/step - loss: 4.0242e-04 - val_loss: 8.2518e-04\n",
            "Epoch 262/350\n",
            "11/11 [==============================] - 18s 2s/step - loss: 0.0040 - val_loss: 0.0015\n",
            "Epoch 263/350\n",
            "11/11 [==============================] - 18s 2s/step - loss: 0.0015 - val_loss: 3.5165e-04\n",
            "Epoch 264/350\n",
            "11/11 [==============================] - 17s 2s/step - loss: 6.5411e-04 - val_loss: 3.7782e-04\n",
            "Epoch 265/350\n",
            "11/11 [==============================] - 19s 2s/step - loss: 4.7327e-04 - val_loss: 3.3402e-04\n",
            "Epoch 266/350\n",
            "11/11 [==============================] - 18s 2s/step - loss: 5.6834e-04 - val_loss: 4.0212e-04\n",
            "Epoch 267/350\n",
            "11/11 [==============================] - 18s 2s/step - loss: 4.5619e-04 - val_loss: 2.9717e-04\n",
            "Epoch 268/350\n",
            "11/11 [==============================] - 19s 2s/step - loss: 4.6293e-04 - val_loss: 3.2320e-04\n",
            "Epoch 269/350\n",
            "11/11 [==============================] - 18s 2s/step - loss: 5.2815e-04 - val_loss: 3.4372e-04\n",
            "Epoch 270/350\n",
            "11/11 [==============================] - 17s 2s/step - loss: 4.6151e-04 - val_loss: 3.3727e-04\n",
            "Epoch 271/350\n",
            "11/11 [==============================] - 19s 2s/step - loss: 4.2646e-04 - val_loss: 2.8917e-04\n",
            "Epoch 272/350\n",
            "11/11 [==============================] - 18s 2s/step - loss: 4.1238e-04 - val_loss: 3.2766e-04\n",
            "Epoch 273/350\n",
            "11/11 [==============================] - 18s 2s/step - loss: 5.3811e-04 - val_loss: 4.0867e-04\n",
            "Epoch 274/350\n",
            "11/11 [==============================] - 17s 2s/step - loss: 4.6811e-04 - val_loss: 2.8549e-04\n",
            "Epoch 275/350\n",
            "11/11 [==============================] - 19s 2s/step - loss: 6.0271e-04 - val_loss: 3.5872e-04\n",
            "Epoch 276/350\n",
            "11/11 [==============================] - 17s 2s/step - loss: 4.6775e-04 - val_loss: 2.9343e-04\n",
            "Epoch 277/350\n",
            "11/11 [==============================] - 18s 2s/step - loss: 5.4011e-04 - val_loss: 4.2550e-04\n",
            "Epoch 278/350\n",
            "11/11 [==============================] - 18s 2s/step - loss: 5.3912e-04 - val_loss: 3.7297e-04\n",
            "Epoch 279/350\n",
            "11/11 [==============================] - 18s 2s/step - loss: 4.3630e-04 - val_loss: 3.0479e-04\n",
            "Epoch 280/350\n",
            "11/11 [==============================] - 17s 2s/step - loss: 4.0245e-04 - val_loss: 3.1854e-04\n",
            "Epoch 281/350\n",
            "11/11 [==============================] - 18s 2s/step - loss: 4.3011e-04 - val_loss: 2.8624e-04\n",
            "Epoch 282/350\n",
            "11/11 [==============================] - 18s 2s/step - loss: 3.9912e-04 - val_loss: 2.8431e-04\n",
            "Epoch 283/350\n",
            "11/11 [==============================] - 18s 2s/step - loss: 3.9854e-04 - val_loss: 2.8183e-04\n",
            "Epoch 284/350\n",
            "11/11 [==============================] - 18s 2s/step - loss: 3.9788e-04 - val_loss: 2.8367e-04\n",
            "Epoch 285/350\n",
            "11/11 [==============================] - 19s 2s/step - loss: 4.0404e-04 - val_loss: 2.8280e-04\n",
            "Epoch 286/350\n",
            "11/11 [==============================] - 17s 2s/step - loss: 3.9201e-04 - val_loss: 2.9558e-04\n",
            "Epoch 287/350\n",
            "11/11 [==============================] - 18s 2s/step - loss: 3.9944e-04 - val_loss: 2.8094e-04\n",
            "Epoch 288/350\n",
            "11/11 [==============================] - 17s 2s/step - loss: 4.4212e-04 - val_loss: 3.9161e-04\n",
            "Epoch 289/350\n",
            "11/11 [==============================] - 18s 2s/step - loss: 0.0010 - val_loss: 8.7751e-04\n",
            "Epoch 290/350\n",
            "11/11 [==============================] - 18s 2s/step - loss: 6.4151e-04 - val_loss: 5.0678e-04\n",
            "Epoch 291/350\n",
            "11/11 [==============================] - 18s 2s/step - loss: 4.7326e-04 - val_loss: 3.5386e-04\n",
            "Epoch 292/350\n",
            "11/11 [==============================] - 18s 2s/step - loss: 4.3296e-04 - val_loss: 2.8632e-04\n",
            "Epoch 293/350\n",
            "11/11 [==============================] - 19s 2s/step - loss: 3.9916e-04 - val_loss: 2.7915e-04\n",
            "Epoch 294/350\n",
            "11/11 [==============================] - 18s 2s/step - loss: 3.9977e-04 - val_loss: 2.8609e-04\n",
            "Epoch 295/350\n",
            "11/11 [==============================] - 19s 2s/step - loss: 3.9057e-04 - val_loss: 2.7803e-04\n",
            "Epoch 296/350\n",
            "11/11 [==============================] - 19s 2s/step - loss: 4.0783e-04 - val_loss: 2.9833e-04\n",
            "Epoch 297/350\n",
            "11/11 [==============================] - 18s 2s/step - loss: 4.4701e-04 - val_loss: 2.7790e-04\n",
            "Epoch 298/350\n",
            "11/11 [==============================] - 18s 2s/step - loss: 3.9150e-04 - val_loss: 3.1305e-04\n",
            "Epoch 299/350\n",
            "11/11 [==============================] - 18s 2s/step - loss: 4.0711e-04 - val_loss: 2.7440e-04\n",
            "Epoch 300/350\n",
            "11/11 [==============================] - 18s 2s/step - loss: 3.9200e-04 - val_loss: 2.7991e-04\n",
            "Epoch 301/350\n",
            "11/11 [==============================] - 18s 2s/step - loss: 3.8860e-04 - val_loss: 2.8134e-04\n",
            "Epoch 302/350\n",
            "11/11 [==============================] - 18s 2s/step - loss: 3.9041e-04 - val_loss: 2.7098e-04\n",
            "Epoch 303/350\n",
            "11/11 [==============================] - 19s 2s/step - loss: 4.0129e-04 - val_loss: 3.1330e-04\n",
            "Epoch 304/350\n",
            "11/11 [==============================] - 18s 2s/step - loss: 4.2250e-04 - val_loss: 2.7913e-04\n",
            "Epoch 305/350\n",
            "11/11 [==============================] - 18s 2s/step - loss: 4.0714e-04 - val_loss: 2.7096e-04\n",
            "Epoch 306/350\n",
            "11/11 [==============================] - 18s 2s/step - loss: 4.2730e-04 - val_loss: 3.3190e-04\n",
            "Epoch 307/350\n",
            "11/11 [==============================] - 18s 2s/step - loss: 4.1049e-04 - val_loss: 2.9413e-04\n",
            "Epoch 308/350\n",
            "11/11 [==============================] - 18s 2s/step - loss: 4.4435e-04 - val_loss: 2.9898e-04\n",
            "Epoch 309/350\n",
            "11/11 [==============================] - 18s 2s/step - loss: 4.0649e-04 - val_loss: 3.0851e-04\n",
            "Epoch 310/350\n",
            "11/11 [==============================] - 18s 2s/step - loss: 5.4306e-04 - val_loss: 3.6127e-04\n",
            "Epoch 311/350\n",
            "11/11 [==============================] - 18s 2s/step - loss: 4.7728e-04 - val_loss: 2.5981e-04\n",
            "Epoch 312/350\n",
            "11/11 [==============================] - 19s 2s/step - loss: 4.4997e-04 - val_loss: 2.9806e-04\n",
            "Epoch 313/350\n",
            "11/11 [==============================] - 18s 2s/step - loss: 4.3124e-04 - val_loss: 2.7194e-04\n",
            "Epoch 314/350\n",
            "11/11 [==============================] - 18s 2s/step - loss: 3.9277e-04 - val_loss: 2.6382e-04\n",
            "Epoch 315/350\n",
            "11/11 [==============================] - 18s 2s/step - loss: 4.0684e-04 - val_loss: 2.6165e-04\n",
            "Epoch 316/350\n",
            "11/11 [==============================] - 19s 2s/step - loss: 4.0806e-04 - val_loss: 2.7111e-04\n",
            "Epoch 317/350\n",
            "11/11 [==============================] - 18s 2s/step - loss: 3.8834e-04 - val_loss: 2.6792e-04\n",
            "Epoch 318/350\n",
            "11/11 [==============================] - 19s 2s/step - loss: 3.8946e-04 - val_loss: 2.7984e-04\n",
            "Epoch 319/350\n",
            "11/11 [==============================] - 18s 2s/step - loss: 3.9685e-04 - val_loss: 2.7913e-04\n",
            "Epoch 320/350\n",
            "11/11 [==============================] - 20s 2s/step - loss: 6.1991e-04 - val_loss: 5.5717e-04\n",
            "Epoch 321/350\n",
            "11/11 [==============================] - 18s 2s/step - loss: 5.4204e-04 - val_loss: 2.5941e-04\n",
            "Epoch 322/350\n",
            "11/11 [==============================] - 19s 2s/step - loss: 4.2384e-04 - val_loss: 2.6813e-04\n",
            "Epoch 323/350\n",
            "11/11 [==============================] - 18s 2s/step - loss: 3.9618e-04 - val_loss: 2.6847e-04\n",
            "Epoch 324/350\n",
            "11/11 [==============================] - 18s 2s/step - loss: 3.8403e-04 - val_loss: 2.5940e-04\n",
            "Epoch 325/350\n",
            "11/11 [==============================] - 18s 2s/step - loss: 3.9633e-04 - val_loss: 2.9133e-04\n",
            "Epoch 326/350\n",
            "11/11 [==============================] - 18s 2s/step - loss: 3.9949e-04 - val_loss: 2.6206e-04\n",
            "Epoch 327/350\n",
            "11/11 [==============================] - 19s 2s/step - loss: 3.8491e-04 - val_loss: 2.9606e-04\n",
            "Epoch 328/350\n",
            "11/11 [==============================] - 18s 2s/step - loss: 3.9309e-04 - val_loss: 2.6094e-04\n",
            "Epoch 329/350\n",
            "11/11 [==============================] - 18s 2s/step - loss: 3.9471e-04 - val_loss: 3.2278e-04\n",
            "Epoch 330/350\n",
            "11/11 [==============================] - 18s 2s/step - loss: 5.4402e-04 - val_loss: 4.0688e-04\n",
            "Epoch 331/350\n",
            "11/11 [==============================] - 19s 2s/step - loss: 4.9154e-04 - val_loss: 2.6645e-04\n",
            "Epoch 332/350\n",
            "11/11 [==============================] - 18s 2s/step - loss: 4.3126e-04 - val_loss: 3.0809e-04\n",
            "Epoch 333/350\n",
            "11/11 [==============================] - 20s 2s/step - loss: 4.5085e-04 - val_loss: 2.9349e-04\n",
            "Epoch 334/350\n",
            "11/11 [==============================] - 18s 2s/step - loss: 3.8907e-04 - val_loss: 2.5856e-04\n",
            "Epoch 335/350\n",
            "11/11 [==============================] - 19s 2s/step - loss: 3.8364e-04 - val_loss: 2.8006e-04\n",
            "Epoch 336/350\n",
            "11/11 [==============================] - 18s 2s/step - loss: 4.1378e-04 - val_loss: 2.9205e-04\n",
            "Epoch 337/350\n",
            "11/11 [==============================] - 18s 2s/step - loss: 4.2592e-04 - val_loss: 2.5446e-04\n",
            "Epoch 338/350\n",
            "11/11 [==============================] - 18s 2s/step - loss: 4.3426e-04 - val_loss: 3.3918e-04\n",
            "Epoch 339/350\n",
            "11/11 [==============================] - 19s 2s/step - loss: 4.3675e-04 - val_loss: 2.6338e-04\n",
            "Epoch 340/350\n",
            "11/11 [==============================] - 18s 2s/step - loss: 4.0505e-04 - val_loss: 2.5883e-04\n",
            "Epoch 341/350\n",
            "11/11 [==============================] - 19s 2s/step - loss: 3.8307e-04 - val_loss: 2.7144e-04\n",
            "Epoch 342/350\n",
            "11/11 [==============================] - 18s 2s/step - loss: 3.8035e-04 - val_loss: 2.5536e-04\n",
            "Epoch 343/350\n",
            "11/11 [==============================] - 19s 2s/step - loss: 3.8525e-04 - val_loss: 2.8242e-04\n",
            "Epoch 344/350\n",
            "11/11 [==============================] - 18s 2s/step - loss: 3.9189e-04 - val_loss: 2.5673e-04\n",
            "Epoch 345/350\n",
            "11/11 [==============================] - 18s 2s/step - loss: 3.7887e-04 - val_loss: 2.5366e-04\n",
            "Epoch 346/350\n",
            "11/11 [==============================] - 18s 2s/step - loss: 3.8292e-04 - val_loss: 2.5545e-04\n",
            "Epoch 347/350\n",
            "11/11 [==============================] - 19s 2s/step - loss: 4.0091e-04 - val_loss: 6.7903e-04\n",
            "Epoch 348/350\n",
            "11/11 [==============================] - 18s 2s/step - loss: 0.0011 - val_loss: 4.3570e-04\n",
            "Epoch 349/350\n",
            "11/11 [==============================] - 18s 2s/step - loss: 6.3849e-04 - val_loss: 2.7185e-04\n",
            "Epoch 350/350\n",
            "11/11 [==============================] - 18s 2s/step - loss: 4.2067e-04 - val_loss: 3.4975e-04\n"
          ]
        },
        {
          "output_type": "execute_result",
          "data": {
            "text/plain": [
              "<keras.src.callbacks.History at 0x78705f04ceb0>"
            ]
          },
          "metadata": {},
          "execution_count": 55
        }
      ],
      "source": [
        "#Fitting Model\n",
        "#from tensorflow.keras.callbacks import EarlyStopping\n",
        "#early_stopping = EarlyStopping(monitor='val_loss', patience=15, restore_best_weights=True) ,callbacks=[early_stopping]\n",
        "\n",
        "\n",
        "model.fit(X_train,y_train,validation_data=(X_test,ytest),epochs=350,batch_size=64,verbose=1)\n",
        "\n",
        "\n",
        "\n",
        "#from tensorflow.keras.optimizers import Adam\n",
        "\n",
        "#model.compile(optimizer=Adam(learning_rate=0.001), loss='mean_squared_error')\n",
        "#model.fit(X_train, y_train, epochs=160, batch_size=64)"
      ]
    },
    {
      "cell_type": "code",
      "execution_count": 56,
      "metadata": {
        "id": "GUJdBULHdVm8",
        "colab": {
          "base_uri": "https://localhost:8080/"
        },
        "outputId": "b7e5d626-ab6d-4745-921c-11ef220d7cfc"
      },
      "outputs": [
        {
          "output_type": "stream",
          "name": "stdout",
          "text": [
            "21/21 [==============================] - 12s 585ms/step\n",
            "3/3 [==============================] - 2s 554ms/step\n"
          ]
        }
      ],
      "source": [
        "#Predicting Model\n",
        "tf.config.run_functions_eagerly(True)\n",
        "train_predict=model.predict(X_train)\n",
        "test_predict=model.predict(X_test)"
      ]
    },
    {
      "cell_type": "code",
      "execution_count": null,
      "metadata": {
        "id": "kFREXEBNdVpr"
      },
      "outputs": [],
      "source": [
        "train_predict=scaler.inverse_transform(train_predict)\n",
        "test_predict=scaler.inverse_transform(test_predict)"
      ]
    },
    {
      "cell_type": "code",
      "execution_count": 58,
      "metadata": {
        "id": "_COKuqOPdVsW",
        "colab": {
          "base_uri": "https://localhost:8080/"
        },
        "outputId": "b54c86a1-295c-4fb6-a9bf-21afa8c17c78"
      },
      "outputs": [
        {
          "output_type": "stream",
          "name": "stdout",
          "text": [
            "Root Mean Squared Error (RMSE): 290.2525829676853\n",
            "Mean Absolute Error (MAE): 217.40602873245646\n",
            "Standard Deviation: 192.51712\n",
            "Symmetric Mean Absolute Percentage Error (SMAPE): 199.17414140450015\n"
          ]
        }
      ],
      "source": [
        "#MSE\n",
        "#import math\n",
        "#from sklearn.metrics import mean_squared_error\n",
        "#math.sqrt(mean_squared_error(y_train,train_predict))\n",
        "\n",
        "import math\n",
        "import numpy as np\n",
        "from sklearn.metrics import mean_squared_error, mean_absolute_error\n",
        "from scipy.stats import pearsonr\n",
        "\n",
        "\n",
        "\n",
        "mse = mean_squared_error(y_train, train_predict)\n",
        "rmse = math.sqrt(mse)\n",
        "mae = mean_absolute_error(y_train, train_predict)\n",
        "std_deviation = np.std(train_predict)\n",
        "\n",
        "# SMAPE (Symmetric Mean Absolute Percentage Error)\n",
        "def smape(y_true, y_pred):\n",
        "    return 100 * np.mean(2 * np.abs(y_pred - y_true) / (np.abs(y_pred) + np.abs(y_true)))\n",
        "\n",
        "smape_value = smape(y_train, train_predict)\n",
        "\n",
        "\n",
        "\n",
        "print(\"Root Mean Squared Error (RMSE):\", rmse)\n",
        "print(\"Mean Absolute Error (MAE):\", mae)\n",
        "print(\"Standard Deviation:\", std_deviation)\n",
        "print(\"Symmetric Mean Absolute Percentage Error (SMAPE):\", smape_value)\n",
        "\n",
        "\n"
      ]
    },
    {
      "cell_type": "code",
      "execution_count": 59,
      "metadata": {
        "id": "2Q1bAsH3dVyG",
        "colab": {
          "base_uri": "https://localhost:8080/",
          "height": 430
        },
        "outputId": "891a5fbc-e01f-454f-fe83-c2312a721143"
      },
      "outputs": [
        {
          "output_type": "display_data",
          "data": {
            "text/plain": [
              "<Figure size 640x480 with 1 Axes>"
            ],
            "image/png": "[encoded data removed]"
          },
          "metadata": {}
        }
      ],
      "source": [
        "#Plotting data\n",
        "look_back=200\n",
        "import numpy\n",
        "TRPlot = numpy.empty_like(df)\n",
        "TRPlot[:, :] = np.nan\n",
        "TRPlot[look_back:len(train_predict)+look_back, :] = train_predict\n",
        "\n",
        "TEPlot = numpy.empty_like(df)\n",
        "TEPlot[:, :] = numpy.nan\n",
        "TEPlot[len(train_predict)+(look_back*2)+1:len(df)-1, :] = test_predict\n",
        "\n",
        "plt.plot(scaler.inverse_transform(df))\n",
        "\n",
        "plt.plot(TEPlot)\n",
        "\n",
        "plt.plot(TRPlot)\n",
        "\n",
        "plt.show()"
      ]
    },
    {
      "cell_type": "code",
      "execution_count": 60,
      "metadata": {
        "id": "2xRhyEEedV1K",
        "colab": {
          "base_uri": "https://localhost:8080/"
        },
        "outputId": "3285d09d-fb80-4311-85a3-f8a427eb9530"
      },
      "outputs": [
        {
          "output_type": "execute_result",
          "data": {
            "text/plain": [
              "281"
            ]
          },
          "metadata": {},
          "execution_count": 60
        }
      ],
      "source": [
        "len(test_data)"
      ]
    },
    {
      "cell_type": "code",
      "execution_count": 61,
      "metadata": {
        "id": "mu8CMINTdV4G",
        "colab": {
          "base_uri": "https://localhost:8080/"
        },
        "outputId": "ac8470c6-e267-473b-e8b4-b47c0f9a6f8e"
      },
      "outputs": [
        {
          "output_type": "execute_result",
          "data": {
            "text/plain": [
              "(1, 200)"
            ]
          },
          "metadata": {},
          "execution_count": 61
        }
      ],
      "source": [
        "x_input=test_data[len(test_data)-200:].reshape(1,-1)\n",
        "x_input.shape\n"
      ]
    },
    {
      "cell_type": "code",
      "execution_count": 62,
      "metadata": {
        "id": "k8IDyqRWdV7I"
      },
      "outputs": [],
      "source": [
        "temp_input=list(x_input)\n",
        "temp_input=temp_input[0].tolist()"
      ]
    },
    {
      "cell_type": "code",
      "execution_count": 63,
      "metadata": {
        "id": "F0i50PRDdWDs",
        "colab": {
          "base_uri": "https://localhost:8080/"
        },
        "outputId": "936103d0-3a1e-4c5d-c71c-87a8605abf3b"
      },
      "outputs": [
        {
          "output_type": "stream",
          "name": "stderr",
          "text": [
            "/usr/local/lib/python3.10/dist-packages/tensorflow/python/data/ops/structured_function.py:265: UserWarning: Even though the `tf.config.experimental_run_functions_eagerly` option is set, this option does not apply to tf.data functions. To force eager execution of tf.data functions, please use `tf.data.experimental.enable_debug_mode()`.\n",
            "  warnings.warn(\n"
          ]
        },
        {
          "output_type": "stream",
          "name": "stdout",
          "text": [
            "[[0.1688508242368698], [0.1736314445734024], [0.1798010766506195], [0.18623682856559753], [0.1928156167268753], [0.19952654838562012], [0.20638532936573029], [0.21342015266418457], [0.2206641137599945], [0.22815097868442535], [0.2359136939048767], [0.24398359656333923], [0.25239133834838867], [0.26116734743118286], [0.27034321427345276], [0.2799520790576935], [0.2900298833847046], [0.30061569809913635], [0.31175267696380615], [0.3234887421131134], [0.33587735891342163], [0.3489784896373749], [0.3628600537776947], [0.37759941816329956], [0.3932854235172272], [0.41002073884010315], [0.4279254674911499], [0.44714099168777466], [0.46783506870269775], [0.49020814895629883], [0.5145005583763123], [0.5410007238388062], [0.5700507164001465], [0.6020482778549194], [0.6374322772026062], [0.6766373515129089], [0.7199826240539551], [0.7674512267112732], [0.8183190822601318], [0.8706703782081604], [0.9210547804832458], [0.9647862315177917], [0.9972697496414185], [1.0158787965774536], [1.0210654735565186], [1.0158287286758423], [1.0040827989578247], [0.989183247089386], [0.973322331905365], [0.9576545357704163], [0.9426844120025635], [0.9285992383956909], [0.9154576063156128], [0.9032715559005737], [0.8920338153839111], [0.8817253708839417], [0.8723171949386597], [0.8637722134590149], [0.8560466170310974], [0.8490917682647705], [0.842856764793396], [0.8372892737388611], [0.832337498664856], [0.8279507160186768], [0.8240798115730286], [0.8206780552864075], [0.8177018761634827], [0.8151102662086487], [0.8128651976585388], [0.8109310269355774], [0.809275209903717], [0.8078680038452148], [0.8066820502281189], [0.805692195892334], [0.8048756122589111], [0.8042119145393372], [0.8036817312240601], [0.8032680749893188], [0.8029555082321167], [0.8027298450469971], [0.8025787472724915], [0.8024906516075134], [0.802455723285675], [0.8024647831916809], [0.8025099635124207], [0.8025839924812317], [0.8026809692382812], [0.8027952909469604], [0.8029224276542664], [0.803058385848999], [0.8031996488571167], [0.8033432960510254], [0.8034868240356445], [0.8036285638809204], [0.8037667870521545], [0.8039000630378723], [0.804027795791626], [0.8041487336158752], [0.8042627573013306], [0.8043695688247681], [0.8044686913490295], [0.8045603036880493], [0.8046445846557617], [0.8047217130661011], [0.8047918081283569], [0.8048550486564636], [0.8049119710922241], [0.8049630522727966], [0.8050085306167603], [0.8050485253334045], [0.8050837516784668], [0.8051145076751709], [0.805141031742096], [0.8051639795303345], [0.8051838874816895], [0.8052006959915161], [0.8052147626876831], [0.80522620677948], [0.8052356839179993], [0.8052433729171753], [0.8052492141723633], [0.8052538633346558], [0.8052573204040527], [0.805259644985199], [0.8052612543106079], [0.8052622079849243], [0.8052624464035034], [0.80526202917099], [0.8052611947059631], [0.8052600026130676], [0.8052586317062378], [0.8052570819854736], [0.8052554726600647], [0.805253803730011], [0.8052523136138916], [0.8052506446838379], [0.8052488565444946], [0.8052471280097961], [0.8052455186843872], [0.805243968963623], [0.8052424788475037], [0.8052411675453186], [0.8052397966384888], [0.8052384853363037], [0.8052372932434082], [0.8052362203598022], [0.8052355051040649], [0.8052347302436829], [0.8052339553833008], [0.8052331209182739], [0.8052323460578918], [0.8052318096160889], [0.8052314519882202], [0.8052310347557068], [0.8052307367324829], [0.8052304983139038], [0.8052302002906799], [0.805229902267456], [0.805229663848877], [0.8052294850349426], [0.8052293658256531], [0.8052293062210083], [0.8052292466163635], [0.8052291870117188], [0.8052290678024292], [0.8052290678024292], [0.8052290678024292], [0.8052291870117188], [0.8052293062210083], [0.8052293062210083], [0.8052293062210083], [0.8052293062210083], [0.8052293062210083], [0.8052293062210083], [0.8052294254302979], [0.8052294254302979], [0.8052294254302979], [0.8052294254302979], [0.8052294850349426], [0.8052294254302979], [0.8052296042442322], [0.805229663848877], [0.8052297234535217], [0.805229663848877], [0.8052297234535217], [0.8052297234535217], [0.805229663848877], [0.805229663848877], [0.805229663848877], [0.805229663848877], [0.8052296042442322], [0.805229663848877], [0.8052297234535217], [0.805229663848877], [0.8052295446395874], [0.8052295446395874], [0.8052295446395874], [0.8052296042442322], [0.805229663848877], [0.805229663848877], [0.805229663848877], [0.8052297234535217], [0.805229663848877], [0.805229663848877], [0.805229663848877], [0.805229663848877], [0.805229663848877], [0.805229663848877], [0.805229663848877], [0.805229663848877], [0.8052296042442322], [0.8052296042442322], [0.805229663848877], [0.805229663848877], [0.805229663848877], [0.805229663848877], [0.805229663848877], [0.8052296042442322], [0.8052296042442322], [0.805229663848877], [0.805229663848877], [0.8052297234535217], [0.805229663848877], [0.8052296042442322], [0.8052296042442322], [0.805229663848877], [0.805229663848877], [0.805229663848877], [0.805229663848877], [0.805229663848877], [0.8052296042442322], [0.8052296042442322], [0.8052296042442322], [0.8052296042442322], [0.805229663848877], [0.805229663848877], [0.8052296042442322], [0.8052296042442322], [0.805229663848877], [0.8052296042442322], [0.8052296042442322], [0.805229663848877], [0.805229663848877], [0.805229663848877], [0.805229663848877], [0.805229663848877], [0.805229663848877], [0.8052296042442322], [0.8052296042442322], [0.8052296042442322], [0.8052296042442322], [0.8052296042442322], [0.8052296042442322], [0.8052296042442322], [0.8052296042442322], [0.8052296042442322], [0.8052296042442322], [0.8052296042442322], [0.805229663848877], [0.805229663848877], [0.8052296042442322], [0.8052295446395874], [0.8052295446395874], [0.8052296042442322], [0.805229663848877], [0.805229663848877], [0.805229663848877], [0.805229663848877], [0.805229663848877], [0.8052296042442322], [0.8052296042442322], [0.8052296042442322], [0.8052296042442322], [0.8052296042442322], [0.8052296042442322], [0.805229663848877], [0.805229663848877], [0.8052296042442322], [0.8052295446395874], [0.8052296042442322], [0.805229663848877], [0.8052296042442322], [0.8052295446395874], [0.8052295446395874], [0.805229663848877], [0.805229663848877], [0.8052296042442322], [0.8052296042442322], [0.805229663848877], [0.805229663848877], [0.805229663848877], [0.8052296042442322], [0.8052296042442322], [0.805229663848877], [0.805229663848877], [0.805229663848877], [0.8052296042442322], [0.8052296042442322], [0.805229663848877], [0.8052296042442322]]\n"
          ]
        }
      ],
      "source": [
        "#Predicting and plotting Future data for 300 days\n",
        "from numpy import array\n",
        "\n",
        "lstm_output=[]\n",
        "n_steps=200\n",
        "i=0\n",
        "while(i<300):\n",
        "\n",
        "    if(len(temp_input)>200):\n",
        "\n",
        "        x_input=np.array(temp_input[1:])\n",
        "        #print(\"{} day input {}\".format(i,x_input))\n",
        "        x_input=x_input.reshape(1,-1)\n",
        "        x_input = x_input.reshape((1, n_steps, 1))\n",
        "\n",
        "        yhat = model.predict(x_input, verbose=0)\n",
        "        #print(\"{} day output {}\".format(i,yhat))\n",
        "        temp_input.extend(yhat[0].tolist())\n",
        "        temp_input=temp_input[1:]\n",
        "\n",
        "        lstm_output.extend(yhat.tolist())\n",
        "        i=i+1\n",
        "    else:\n",
        "        x_input = x_input.reshape((1, n_steps,1))\n",
        "        yhat = model.predict(x_input, verbose=0)\n",
        "\n",
        "       # print(\"{} day output {}\".format(i, yhat))\n",
        "        temp_input.extend(yhat[0].tolist())\n",
        "        lstm_output.extend(yhat.tolist())\n",
        "        i = i + 1\n",
        "\n",
        "\n",
        "print(lstm_output)"
      ]
    },
    {
      "cell_type": "code",
      "execution_count": null,
      "metadata": {
        "id": "UdVgD9xhdWGx"
      },
      "outputs": [],
      "source": [
        "day_new=np.arange(1,201)\n",
        "day_pred=np.arange(201,501)"
      ]
    },
    {
      "cell_type": "code",
      "execution_count": null,
      "metadata": {
        "id": "Q_0oclnndWKA"
      },
      "outputs": [],
      "source": [
        "import matplotlib.pyplot as plt"
      ]
    },
    {
      "cell_type": "code",
      "execution_count": null,
      "metadata": {
        "id": "r4dnFQXmAGmU"
      },
      "outputs": [],
      "source": [
        "len(df)"
      ]
    },
    {
      "cell_type": "code",
      "execution_count": null,
      "metadata": {
        "id": "n6rpfSJ7dWNK"
      },
      "outputs": [],
      "source": [
        "plt.plot(day_new,scaler.inverse_transform(df[len(df)-200:]))\n",
        "plt.plot(day_pred,scaler.inverse_transform(lstm_output))\n",
        "plt.title('AAVE')"
      ]
    },
    {
      "cell_type": "code",
      "execution_count": null,
      "metadata": {
        "id": "k8S4dq2_dWQB"
      },
      "outputs": [],
      "source": [
        "df1=df.tolist()\n",
        "df1.extend(lstm_output)\n",
        "plt.plot(df1[len(df)-200:])\n",
        "plt.title('AAVE')"
      ]
    },
    {
      "cell_type": "code",
      "execution_count": null,
      "metadata": {
        "id": "ccK-WpSvdWSc"
      },
      "outputs": [],
      "source": [
        "df1=scaler.inverse_transform(df1).tolist()"
      ]
    },
    {
      "cell_type": "code",
      "execution_count": 70,
      "metadata": {
        "id": "rgYY_OeYdWVI",
        "colab": {
          "base_uri": "https://localhost:8080/",
          "height": 878
        },
        "outputId": "453fc44b-8ec2-4403-838a-7d9fb57465f3"
      },
      "outputs": [
        {
          "data": {
            "text/plain": [
              "[<matplotlib.lines.Line2D at 0x78705f1aa860>]"
            ]
          },
          "execution_count": 70,
          "metadata": {},
          "output_type": "execute_result"
        },
        {
          "data": {
            "image/png": "[encoded data removed]",
            "text/plain": [
              "<Figure size 640x480 with 1 Axes>"
            ]
          },
          "metadata": {},
          "output_type": "display_data"
        },
        {
          "output_type": "execute_result",
          "data": {
            "text/plain": [
              "[<matplotlib.lines.Line2D at 0x78705f1aa860>]"
            ]
          },
          "metadata": {},
          "execution_count": 70
        },
        {
          "output_type": "display_data",
          "data": {
            "text/plain": [
              "<Figure size 640x480 with 1 Axes>"
            ],
            "image/png": "[encoded data removed]"
          },
          "metadata": {}
        }
      ],
      "source": [
        "plt.plot(df1)"
      ]
    }
  ],
  "metadata": {
    "colab": {
      "provenance": [],
      "mount_file_id": "1umayBSmbq6aq3-nTGGP7z6NXn2dGpmhG",
      "authorship_tag": "ABX9TyOwhTkd0/SLWNRxklF0Q6KG",
      "include_colab_link": true
    },
    "kernelspec": {
      "display_name": "Python 3",
      "name": "python3"
    },
    "language_info": {
      "name": "python"
    }
  },
  "nbformat": 4,
  "nbformat_minor": 0
}